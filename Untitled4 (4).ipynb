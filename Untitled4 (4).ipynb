{
 "cells": [
  {
   "cell_type": "markdown",
   "id": "angry-threat",
   "metadata": {},
   "source": [
    "# About Data Type\n",
    "\n",
    "1.What is data type?\n",
    "\n",
    "Ans: A data type, in programming, is a classification that specifies which type of value a variable has and what type of mathematical, relational or logical operations can be applied to it without causing an error. A string, for example, is a data type that is used to classify text and an integer is a data type used to classify whole numbers.\n",
    "\n",
    "2.Describe all data types with examples.\n",
    "\n",
    "Ans:Here are some data types with examples-\n",
    "\n",
    "    Python Number :Integer - 2 , 10 , 15\n",
    "                   Float - 5.25 , 9.70\n",
    "                   Complex - 10 + 5j\n",
    "\n",
    "    Python List : [10 , 13 , 19 , \"HSTU\"]\n",
    "\n",
    "    Python Tuple : (26 , \"IEEE\" , 2+3j)\n",
    "\n",
    "    Python Strings : \"BANGLADESH\" , \"IEEE\"\n",
    "\n",
    "    Python Set : {10 , 1+9j , \"HSTU\"}\n",
    "\n",
    "    Python Dictionary : d = {\n",
    "\n",
    "                         1: \"one\",\n",
    "                         2: \"two\",\n",
    "                         3: \"three\" }\n",
    "\n"
   ]
  },
  {
   "cell_type": "markdown",
   "id": "active-nomination",
   "metadata": {},
   "source": [
    "# Input and Output\n",
    "\n",
    "1.Explain each parameter of print(*objects, sep=' ', end='\\n', file=sys.stdout, flush=False)\n",
    "\n",
    "Ans: The print() function is used to print objects to the text stream file, separated by sep and followed by end. sep, end and file, if present, must be given as keyword arguments. objects :Object to the printed. * indicates that there may be more than one object sep : Objects are separated by sep. Default value: ' ' end : Specify what to print at the end. Default is line feed ('\\n'). file : An object with write(string) method. Default: sys.stdout, which prints objects on the screen. flush : The stream is forcibly flushed If flush is True. Default value: False"
   ]
  },
  {
   "cell_type": "markdown",
   "id": "absolute-secretary",
   "metadata": {},
   "source": [
    "# Operator\n",
    "\n",
    "1.What is a python operator? Describe at least three types of operator.\n",
    "\n",
    "Ans: Operators are special symbols in Python that carry out arithmetic or logical computation. The value that the operator operates on is called the operand.\n",
    "Arithmetic operators: Arithmetic operators are used to perform mathematical operations like addition, subtraction, multiplication, etc.\n",
    "Comparison operators: Comparison operators are used to compare values. It returns either True or False according to the condition.\n",
    "Logical operators: Logical operators are the and, or, not operators"
   ]
  },
  {
   "cell_type": "markdown",
   "id": "future-gross",
   "metadata": {},
   "source": [
    "# Problems: "
   ]
  },
  {
   "cell_type": "code",
   "execution_count": 2,
   "id": "chief-kingston",
   "metadata": {},
   "outputs": [
    {
     "name": "stdout",
     "output_type": "stream",
     "text": [
      "3\n"
     ]
    }
   ],
   "source": [
    "l = [1,2,3,4,5,6,7]\n",
    "l1 = l[2]\n",
    "print(l1)"
   ]
  },
  {
   "cell_type": "code",
   "execution_count": 3,
   "id": "blank-locking",
   "metadata": {},
   "outputs": [
    {
     "name": "stdout",
     "output_type": "stream",
     "text": [
      "20\n",
      "10\n",
      "75\n"
     ]
    }
   ],
   "source": [
    "a = 15 \n",
    "b = 5\n",
    "print(a+b)\n",
    "print(a-b)\n",
    "print(a*b)"
   ]
  },
  {
   "cell_type": "code",
   "execution_count": 4,
   "id": "healthy-container",
   "metadata": {},
   "outputs": [
    {
     "name": "stdout",
     "output_type": "stream",
     "text": [
      "0\n",
      "0.6\n"
     ]
    }
   ],
   "source": [
    "a = 3 \n",
    "b = 5\n",
    "print(a//b)\n",
    "print(a/b)"
   ]
  },
  {
   "cell_type": "code",
   "execution_count": 5,
   "id": "wound-lender",
   "metadata": {},
   "outputs": [
    {
     "name": "stdout",
     "output_type": "stream",
     "text": [
      "Red\n",
      "Black\n"
     ]
    }
   ],
   "source": [
    "c = [\"Red\",\"Green\",\"White\",\"Black\"]\n",
    "c1 = c[0]\n",
    "c2 = c[3]\n",
    "print(c1)\n",
    "print(c2)"
   ]
  },
  {
   "cell_type": "code",
   "execution_count": 8,
   "id": "amazing-chassis",
   "metadata": {},
   "outputs": [
    {
     "name": "stdout",
     "output_type": "stream",
     "text": [
      "         Sample string:\n",
      "a string that you \"don't\" have to escape\n",
      "                 This\n",
      "         is a ...... multi-line\n",
      "      heredoc string----> example\n"
     ]
    }
   ],
   "source": [
    "mult = \"\"\"         Sample string:\n",
    "a string that you \"don't\" have to escape\n",
    "                 This\n",
    "         is a ...... multi-line\n",
    "      heredoc string----> example\"\"\"\n",
    "print(mult)"
   ]
  },
  {
   "cell_type": "code",
   "execution_count": 9,
   "id": "simple-salon",
   "metadata": {},
   "outputs": [
    {
     "name": "stdout",
     "output_type": "stream",
     "text": [
      "Enter the base of the triangle7\n",
      "Enter the height of the triangle6\n",
      "The area of the triangle is 21.0\n"
     ]
    }
   ],
   "source": [
    "a = float(input(\"Enter the base of the triangle\"))\n",
    "b = float(input(\"Enter the height of the triangle\"))\n",
    "area = 0.5*a*b\n",
    "\n",
    "print(\"The area of the triangle is\", area)"
   ]
  },
  {
   "cell_type": "code",
   "execution_count": 10,
   "id": "developed-church",
   "metadata": {},
   "outputs": [
    {
     "name": "stdout",
     "output_type": "stream",
     "text": [
      "Enter your name:Urbee\n",
      "Enter your age:20\n",
      "Enter your address:Dinajpur\n",
      "Urbee\n",
      "20\n",
      "Dinajpur\n"
     ]
    }
   ],
   "source": [
    "a = input(\"Enter your name:\")\n",
    "b = input(\"Enter your age:\")\n",
    "c = input(\"Enter your address:\")\n",
    "\n",
    "print(a,b,c,sep=\"\\n\")"
   ]
  },
  {
   "cell_type": "code",
   "execution_count": 11,
   "id": "educated-harvest",
   "metadata": {},
   "outputs": [
    {
     "name": "stdout",
     "output_type": "stream",
     "text": [
      "Enter the principle amount 10000\n",
      "Enter the rate 10\n",
      "Enter the time span 5\n",
      "The compound interest is 6105.100000000006\n"
     ]
    }
   ],
   "source": [
    "p = input(\"Enter the principle amount \")\n",
    "r = input(\"Enter the rate \")\n",
    "t = input(\"Enter the time span \")\n",
    "\n",
    "p_float = float(p)\n",
    "r_float = float(r)\n",
    "t_float = float(t)\n",
    "\n",
    "a = p_float*( 1+ r_float/100 ) ** t_float\n",
    "ci = a-p_float\n",
    "\n",
    "print(\"The compound interest is\", ci)"
   ]
  },
  {
   "cell_type": "code",
   "execution_count": 12,
   "id": "arabic-assets",
   "metadata": {},
   "outputs": [
    {
     "name": "stdout",
     "output_type": "stream",
     "text": [
      "* * * * * \n",
      " * * * *  \n",
      "  * * *   \n",
      "   * *    \n",
      "    *     \n"
     ]
    }
   ],
   "source": [
    "a = \"* * * * *\"\n",
    "b = \"* * * *\"\n",
    "c = \"* * *\"\n",
    "d = \"* *\"\n",
    "e = \"*\"\n",
    "print(a.center(10))\n",
    "print(b.center(10))\n",
    "print(c.center(10))\n",
    "print(d.center(10))\n",
    "print(e.center(10))"
   ]
  },
  {
   "cell_type": "code",
   "execution_count": 13,
   "id": "stretch-objective",
   "metadata": {},
   "outputs": [
    {
     "name": "stdout",
     "output_type": "stream",
     "text": [
      "Enter the temparature in Celsius 98\n",
      "Temparature in Fahrenheit is  208.4\n"
     ]
    }
   ],
   "source": [
    "c = float(input(\"Enter the temparature in Celsius \"))\n",
    "\n",
    "f = c*1.8+32\n",
    "\n",
    "print(\"Temparature in Fahrenheit is \", f)"
   ]
  },
  {
   "cell_type": "code",
   "execution_count": null,
   "id": "incoming-competition",
   "metadata": {},
   "outputs": [],
   "source": []
  }
 ],
 "metadata": {
  "kernelspec": {
   "display_name": "Python 3",
   "language": "python",
   "name": "python3"
  },
  "language_info": {
   "codemirror_mode": {
    "name": "ipython",
    "version": 3
   },
   "file_extension": ".py",
   "mimetype": "text/x-python",
   "name": "python",
   "nbconvert_exporter": "python",
   "pygments_lexer": "ipython3",
   "version": "3.9.2"
  }
 },
 "nbformat": 4,
 "nbformat_minor": 5
}
